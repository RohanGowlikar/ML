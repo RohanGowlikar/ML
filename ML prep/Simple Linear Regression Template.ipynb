{
 "cells": [
  {
   "cell_type": "markdown",
   "metadata": {
    "id": "FB7mg-9WUSAn"
   },
   "source": [
    "# Simple Linear Regression "
   ]
  },
  {
   "cell_type": "markdown",
   "metadata": {
    "id": "zcXufiytUV3b"
   },
   "source": [
    "## Importing Libraries"
   ]
  },
  {
   "cell_type": "markdown",
   "metadata": {
    "id": "x1V8I7-1Ugu8"
   },
   "source": [
    "## Importing Data Set"
   ]
  },
  {
   "cell_type": "markdown",
   "metadata": {
    "id": "2vBbKI1BUilB"
   },
   "source": [
    "## Splitting into test and training set"
   ]
  },
  {
   "cell_type": "markdown",
   "metadata": {
    "id": "K6uEL0b5Utac"
   },
   "source": [
    "## Training on Training Set using Simple Linear Regression"
   ]
  },
  {
   "cell_type": "markdown",
   "metadata": {
    "id": "RyRva69qUzBK"
   },
   "source": [
    "## Prediction on Test Set"
   ]
  },
  {
   "cell_type": "markdown",
   "metadata": {
    "id": "uziF7cmeU4tJ"
   },
   "source": [
    "## Visualizing the Training Set"
   ]
  },
  {
   "cell_type": "markdown",
   "metadata": {
    "id": "3ot8DaEpsxxb"
   },
   "source": [
    "## Visualizing the Test Set"
   ]
  }
 ],
 "metadata": {
  "colab": {
   "authorship_tag": "ABX9TyPiVAgn5gbXGchtzmchDNe+",
   "name": "Simple Linear Regression Template.ipynb",
   "provenance": []
  },
  "kernelspec": {
   "display_name": "Python 3 (ipykernel)",
   "language": "python",
   "name": "python3"
  },
  "language_info": {
   "codemirror_mode": {
    "name": "ipython",
    "version": 3
   },
   "file_extension": ".py",
   "mimetype": "text/x-python",
   "name": "python",
   "nbconvert_exporter": "python",
   "pygments_lexer": "ipython3",
   "version": "3.9.12"
  }
 },
 "nbformat": 4,
 "nbformat_minor": 1
}
