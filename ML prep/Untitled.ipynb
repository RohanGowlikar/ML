{
 "cells": [
  {
   "cell_type": "code",
   "execution_count": 21,
   "id": "4460d230",
   "metadata": {},
   "outputs": [],
   "source": [
    "import numpy as np\n",
    "import pandas as pd\n",
    "import matplotlib.pyplot as plt\n"
   ]
  },
  {
   "cell_type": "code",
   "execution_count": 26,
   "id": "5304200e",
   "metadata": {},
   "outputs": [],
   "source": [
    "dataset = pd.read_csv(\"RBC Polynomial Regression.csv\")\n",
    "X= dataset.iloc[:, 0:-1].values\n",
    "y = dataset.iloc[:, -1].values"
   ]
  },
  {
   "cell_type": "code",
   "execution_count": 46,
   "id": "a245073b",
   "metadata": {
    "scrolled": true
   },
   "outputs": [
    {
     "name": "stdout",
     "output_type": "stream",
     "text": [
      "[[ 2]\n",
      " [ 4]\n",
      " [ 5]\n",
      " [10]\n",
      " [12]\n",
      " [15]\n",
      " [20]\n",
      " [21]\n",
      " [22]\n",
      " [25]\n",
      " [30]\n",
      " [35]\n",
      " [40]\n",
      " [45]\n",
      " [50]\n",
      " [55]\n",
      " [57]\n",
      " [60]\n",
      " [65]\n",
      " [70]\n",
      " [75]\n",
      " [80]\n",
      " [81]\n",
      " [82]\n",
      " [85]\n",
      " [95]]\n",
      "[  99  390  412 1481 1780 2105 2898 2680 2740 2800 2601 2343 2271 1902\n",
      " 1701 1491 1329 1191  809  701  493  291  269  240  191   21]\n"
     ]
    }
   ],
   "source": [
    "X = X.reshape(len(X),1)\n",
    "print(X)\n",
    "print(y)\n"
   ]
  },
  {
   "cell_type": "code",
   "execution_count": 47,
   "id": "ecacadba",
   "metadata": {},
   "outputs": [
    {
     "data": {
      "text/plain": [
       "LinearRegression()"
      ]
     },
     "execution_count": 47,
     "metadata": {},
     "output_type": "execute_result"
    }
   ],
   "source": [
    "# Training the linear Regression model on the whole dataset\n",
    "\n",
    "from sklearn.linear_model import LinearRegression\n",
    "linear_reg = LinearRegression()\n",
    "linear_reg.fit(X, y)\n"
   ]
  },
  {
   "cell_type": "code",
   "execution_count": 48,
   "id": "41014c54",
   "metadata": {},
   "outputs": [
    {
     "data": {
      "text/plain": [
       "LinearRegression()"
      ]
     },
     "execution_count": 48,
     "metadata": {},
     "output_type": "execute_result"
    }
   ],
   "source": [
    "# Training the Polynomial Regression model on the whole dataset\n",
    "\n",
    "from sklearn.preprocessing import PolynomialFeatures\n",
    "polynomial_reg = PolynomialFeatures(degree = 6)\n",
    "X_poly = polynomial_reg.fit_transform(X)\n",
    "\n",
    "linear_reg_2 = LinearRegression()\n",
    "linear_reg_2.fit(X_poly,y)"
   ]
  },
  {
   "cell_type": "code",
   "execution_count": 50,
   "id": "d2285ab0",
   "metadata": {},
   "outputs": [
    {
     "data": {
      "text/plain": [
       "Text(0, 0.5, 'RBC')"
      ]
     },
     "execution_count": 50,
     "metadata": {},
     "output_type": "execute_result"
    },
    {
     "data": {
      "image/png": "[encoded data removed]",
      "text/plain": [
       "<Figure size 432x288 with 1 Axes>"
      ]
     },
     "metadata": {
      "needs_background": "light"
     },
     "output_type": "display_data"
    }
   ],
   "source": [
    "#Visualing the linear Regression result\n",
    "\n",
    "plt.scatter(X, y, color =\"red\")\n",
    "plt.plot(X, linear_reg.predict(X), color = \"blue\")\n",
    "plt.title(\"RBC - Linear Regression\")\n",
    "plt.xlabel(\"Age\")\n",
    "plt.ylabel(\"RBC\")\n"
   ]
  },
  {
   "cell_type": "code",
   "execution_count": null,
   "id": "64e2f59b",
   "metadata": {},
   "outputs": [],
   "source": []
  }
 ],
 "metadata": {
  "kernelspec": {
   "display_name": "Python 3 (ipykernel)",
   "language": "python",
   "name": "python3"
  },
  "language_info": {
   "codemirror_mode": {
    "name": "ipython",
    "version": 3
   },
   "file_extension": ".py",
   "mimetype": "text/x-python",
   "name": "python",
   "nbconvert_exporter": "python",
   "pygments_lexer": "ipython3",
   "version": "3.9.12"
  }
 },
 "nbformat": 4,
 "nbformat_minor": 5
}
